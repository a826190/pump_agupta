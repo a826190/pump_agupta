{
 "cells": [
  {
   "cell_type": "code",
   "execution_count": 1,
   "metadata": {},
   "outputs": [
    {
     "name": "stderr",
     "output_type": "stream",
     "text": [
      "Warning: confluent_kafka is not installed. Publish to MessageHub not supported.\n"
     ]
    },
    {
     "ename": "ImportError",
     "evalue": "cannot import name 'joblib' from 'sklearn.externals' (c:\\users\\a826190\\iot-python_v1\\lib\\site-packages\\sklearn\\externals\\__init__.py)",
     "output_type": "error",
     "traceback": [
      "\u001b[1;31m---------------------------------------------------------------------------\u001b[0m",
      "\u001b[1;31mImportError\u001b[0m                               Traceback (most recent call last)",
      "\u001b[1;32m~\\AppData\\Local\\Temp/ipykernel_12648/2099845393.py\u001b[0m in \u001b[0;36m<module>\u001b[1;34m\u001b[0m\n\u001b[0;32m     18\u001b[0m \u001b[1;32mimport\u001b[0m \u001b[0mnumpy\u001b[0m \u001b[1;32mas\u001b[0m \u001b[0mnp\u001b[0m\u001b[1;33m\u001b[0m\u001b[1;33m\u001b[0m\u001b[0m\n\u001b[0;32m     19\u001b[0m \u001b[1;33m\u001b[0m\u001b[0m\n\u001b[1;32m---> 20\u001b[1;33m \u001b[1;32mfrom\u001b[0m \u001b[0mwatson_machine_learning_client\u001b[0m \u001b[1;32mimport\u001b[0m \u001b[0mWatsonMachineLearningAPIClient\u001b[0m\u001b[1;33m\u001b[0m\u001b[1;33m\u001b[0m\u001b[0m\n\u001b[0m\u001b[0;32m     21\u001b[0m \u001b[1;32mimport\u001b[0m \u001b[0mpandas\u001b[0m \u001b[1;32mas\u001b[0m \u001b[0mpd\u001b[0m\u001b[1;33m\u001b[0m\u001b[1;33m\u001b[0m\u001b[0m\n\u001b[0;32m     22\u001b[0m \u001b[1;32mfrom\u001b[0m \u001b[0msklearn\u001b[0m\u001b[1;33m.\u001b[0m\u001b[0mensemble\u001b[0m \u001b[1;32mimport\u001b[0m \u001b[0mRandomForestRegressor\u001b[0m\u001b[1;33m\u001b[0m\u001b[1;33m\u001b[0m\u001b[0m\n",
      "\u001b[1;32mc:\\users\\a826190\\iot-python_v1\\lib\\site-packages\\watson_machine_learning_client\\__init__.py\u001b[0m in \u001b[0;36m<module>\u001b[1;34m\u001b[0m\n\u001b[0;32m     15\u001b[0m     \u001b[1;32mpass\u001b[0m\u001b[1;33m\u001b[0m\u001b[1;33m\u001b[0m\u001b[0m\n\u001b[0;32m     16\u001b[0m \u001b[1;32mfrom\u001b[0m \u001b[1;33m.\u001b[0m\u001b[0mutils\u001b[0m \u001b[1;32mimport\u001b[0m \u001b[0mversion\u001b[0m\u001b[1;33m\u001b[0m\u001b[1;33m\u001b[0m\u001b[0m\n\u001b[1;32m---> 17\u001b[1;33m \u001b[1;32mfrom\u001b[0m \u001b[1;33m.\u001b[0m\u001b[0mclient\u001b[0m \u001b[1;32mimport\u001b[0m \u001b[0mWatsonMachineLearningAPIClient\u001b[0m\u001b[1;33m\u001b[0m\u001b[1;33m\u001b[0m\u001b[0m\n\u001b[0m\u001b[0;32m     18\u001b[0m \u001b[1;33m\u001b[0m\u001b[0m\n\u001b[0;32m     19\u001b[0m \u001b[1;32mfrom\u001b[0m \u001b[1;33m.\u001b[0m\u001b[0mutils\u001b[0m \u001b[1;32mimport\u001b[0m \u001b[0mis_python_2\u001b[0m\u001b[1;33m\u001b[0m\u001b[1;33m\u001b[0m\u001b[0m\n",
      "\u001b[1;32mc:\\users\\a826190\\iot-python_v1\\lib\\site-packages\\watson_machine_learning_client\\client.py\u001b[0m in \u001b[0;36m<module>\u001b[1;34m\u001b[0m\n\u001b[0;32m     12\u001b[0m \u001b[1;32mfrom\u001b[0m \u001b[0mwatson_machine_learning_client\u001b[0m\u001b[1;33m.\u001b[0m\u001b[0mlearning_system\u001b[0m \u001b[1;32mimport\u001b[0m \u001b[0mLearningSystem\u001b[0m\u001b[1;33m\u001b[0m\u001b[1;33m\u001b[0m\u001b[0m\n\u001b[0;32m     13\u001b[0m \u001b[1;32mfrom\u001b[0m \u001b[0mwatson_machine_learning_client\u001b[0m\u001b[1;33m.\u001b[0m\u001b[0mexperiments\u001b[0m \u001b[1;32mimport\u001b[0m \u001b[0mExperiments\u001b[0m\u001b[1;33m\u001b[0m\u001b[1;33m\u001b[0m\u001b[0m\n\u001b[1;32m---> 14\u001b[1;33m \u001b[1;32mfrom\u001b[0m \u001b[0mwatson_machine_learning_client\u001b[0m\u001b[1;33m.\u001b[0m\u001b[0mrepository\u001b[0m \u001b[1;32mimport\u001b[0m \u001b[0mRepository\u001b[0m\u001b[1;33m\u001b[0m\u001b[1;33m\u001b[0m\u001b[0m\n\u001b[0m\u001b[0;32m     15\u001b[0m \u001b[1;32mfrom\u001b[0m \u001b[0mwatson_machine_learning_client\u001b[0m\u001b[1;33m.\u001b[0m\u001b[0mmodels\u001b[0m \u001b[1;32mimport\u001b[0m \u001b[0mModels\u001b[0m\u001b[1;33m\u001b[0m\u001b[1;33m\u001b[0m\u001b[0m\n\u001b[0;32m     16\u001b[0m \u001b[1;32mfrom\u001b[0m \u001b[0mwatson_machine_learning_client\u001b[0m\u001b[1;33m.\u001b[0m\u001b[0mdefinitions\u001b[0m \u001b[1;32mimport\u001b[0m \u001b[0mDefinitions\u001b[0m\u001b[1;33m\u001b[0m\u001b[1;33m\u001b[0m\u001b[0m\n",
      "\u001b[1;32mc:\\users\\a826190\\iot-python_v1\\lib\\site-packages\\watson_machine_learning_client\\repository.py\u001b[0m in \u001b[0;36m<module>\u001b[1;34m\u001b[0m\n\u001b[0;32m     14\u001b[0m \u001b[1;32mfrom\u001b[0m \u001b[0mwatson_machine_learning_client\u001b[0m\u001b[1;33m.\u001b[0m\u001b[0mwml_client_error\u001b[0m \u001b[1;32mimport\u001b[0m \u001b[0mWMLClientError\u001b[0m\u001b[1;33m\u001b[0m\u001b[1;33m\u001b[0m\u001b[0m\n\u001b[0;32m     15\u001b[0m \u001b[1;32mfrom\u001b[0m \u001b[0mwatson_machine_learning_client\u001b[0m\u001b[1;33m.\u001b[0m\u001b[0mwml_resource\u001b[0m \u001b[1;32mimport\u001b[0m \u001b[0mWMLResource\u001b[0m\u001b[1;33m\u001b[0m\u001b[1;33m\u001b[0m\u001b[0m\n\u001b[1;32m---> 16\u001b[1;33m \u001b[1;32mfrom\u001b[0m \u001b[0mwatson_machine_learning_client\u001b[0m\u001b[1;33m.\u001b[0m\u001b[0mmodels\u001b[0m \u001b[1;32mimport\u001b[0m \u001b[0mModels\u001b[0m\u001b[1;33m\u001b[0m\u001b[1;33m\u001b[0m\u001b[0m\n\u001b[0m\u001b[0;32m     17\u001b[0m \u001b[1;32mfrom\u001b[0m \u001b[0mwatson_machine_learning_client\u001b[0m\u001b[1;33m.\u001b[0m\u001b[0mdefinitions\u001b[0m \u001b[1;32mimport\u001b[0m \u001b[0mDefinitions\u001b[0m\u001b[1;33m\u001b[0m\u001b[1;33m\u001b[0m\u001b[0m\n\u001b[0;32m     18\u001b[0m \u001b[1;32mfrom\u001b[0m \u001b[0mwatson_machine_learning_client\u001b[0m\u001b[1;33m.\u001b[0m\u001b[0mexperiments\u001b[0m \u001b[1;32mimport\u001b[0m \u001b[0mExperiments\u001b[0m\u001b[1;33m\u001b[0m\u001b[1;33m\u001b[0m\u001b[0m\n",
      "\u001b[1;32mc:\\users\\a826190\\iot-python_v1\\lib\\site-packages\\watson_machine_learning_client\\models.py\u001b[0m in \u001b[0;36m<module>\u001b[1;34m\u001b[0m\n\u001b[0;32m      9\u001b[0m \u001b[1;33m\u001b[0m\u001b[0m\n\u001b[0;32m     10\u001b[0m \u001b[1;32mfrom\u001b[0m \u001b[0m__future__\u001b[0m \u001b[1;32mimport\u001b[0m \u001b[0mprint_function\u001b[0m\u001b[1;33m\u001b[0m\u001b[1;33m\u001b[0m\u001b[0m\n\u001b[1;32m---> 11\u001b[1;33m \u001b[1;32mfrom\u001b[0m \u001b[0mwatson_machine_learning_client\u001b[0m\u001b[1;33m.\u001b[0m\u001b[0mlibs\u001b[0m\u001b[1;33m.\u001b[0m\u001b[0mrepo\u001b[0m\u001b[1;33m.\u001b[0m\u001b[0mmlrepositoryartifact\u001b[0m \u001b[1;32mimport\u001b[0m \u001b[0mMLRepositoryArtifact\u001b[0m\u001b[1;33m\u001b[0m\u001b[1;33m\u001b[0m\u001b[0m\n\u001b[0m\u001b[0;32m     12\u001b[0m \u001b[1;32mfrom\u001b[0m \u001b[0mwatson_machine_learning_client\u001b[0m\u001b[1;33m.\u001b[0m\u001b[0mlibs\u001b[0m\u001b[1;33m.\u001b[0m\u001b[0mrepo\u001b[0m\u001b[1;33m.\u001b[0m\u001b[0mmlrepository\u001b[0m \u001b[1;32mimport\u001b[0m \u001b[0mMetaProps\u001b[0m\u001b[1;33m,\u001b[0m \u001b[0mMetaNames\u001b[0m\u001b[1;33m\u001b[0m\u001b[1;33m\u001b[0m\u001b[0m\n\u001b[0;32m     13\u001b[0m \u001b[1;32mimport\u001b[0m \u001b[0mrequests\u001b[0m\u001b[1;33m\u001b[0m\u001b[1;33m\u001b[0m\u001b[0m\n",
      "\u001b[1;32mc:\\users\\a826190\\iot-python_v1\\lib\\site-packages\\watson_machine_learning_client\\libs\\repo\\mlrepositoryartifact\\__init__.py\u001b[0m in \u001b[0;36m<module>\u001b[1;34m\u001b[0m\n\u001b[0;32m     10\u001b[0m \u001b[0mwarnings\u001b[0m\u001b[1;33m.\u001b[0m\u001b[0mfilterwarnings\u001b[0m\u001b[1;33m(\u001b[0m\u001b[1;34m\"ignore\"\u001b[0m\u001b[1;33m,\u001b[0m \u001b[0mcategory\u001b[0m\u001b[1;33m=\u001b[0m\u001b[0mFutureWarning\u001b[0m\u001b[1;33m)\u001b[0m\u001b[1;33m\u001b[0m\u001b[1;33m\u001b[0m\u001b[0m\n\u001b[0;32m     11\u001b[0m \u001b[1;33m\u001b[0m\u001b[0m\n\u001b[1;32m---> 12\u001b[1;33m \u001b[1;32mfrom\u001b[0m \u001b[1;33m.\u001b[0m\u001b[0mml_repository_artifact\u001b[0m \u001b[1;32mimport\u001b[0m \u001b[0mMLRepositoryArtifact\u001b[0m\u001b[1;33m\u001b[0m\u001b[1;33m\u001b[0m\u001b[0m\n\u001b[0m\u001b[0;32m     13\u001b[0m \u001b[1;32mfrom\u001b[0m \u001b[1;33m.\u001b[0m\u001b[0mspark_artifact_loader\u001b[0m \u001b[1;32mimport\u001b[0m \u001b[0mSparkArtifactLoader\u001b[0m\u001b[1;33m\u001b[0m\u001b[1;33m\u001b[0m\u001b[0m\n\u001b[0;32m     14\u001b[0m \u001b[1;32mfrom\u001b[0m \u001b[1;33m.\u001b[0m\u001b[0mspark_pipeline_artifact\u001b[0m \u001b[1;32mimport\u001b[0m \u001b[0mSparkPipelineArtifact\u001b[0m\u001b[1;33m\u001b[0m\u001b[1;33m\u001b[0m\u001b[0m\n",
      "\u001b[1;32mc:\\users\\a826190\\iot-python_v1\\lib\\site-packages\\watson_machine_learning_client\\libs\\repo\\mlrepositoryartifact\\ml_repository_artifact.py\u001b[0m in \u001b[0;36m<module>\u001b[1;34m\u001b[0m\n\u001b[0;32m     30\u001b[0m \u001b[1;33m\u001b[0m\u001b[0m\n\u001b[0;32m     31\u001b[0m \u001b[1;32mif\u001b[0m \u001b[0mlib_checker\u001b[0m\u001b[1;33m.\u001b[0m\u001b[0minstalled_libs\u001b[0m\u001b[1;33m[\u001b[0m\u001b[0mSCIKIT\u001b[0m\u001b[1;33m]\u001b[0m\u001b[1;33m:\u001b[0m\u001b[1;33m\u001b[0m\u001b[1;33m\u001b[0m\u001b[0m\n\u001b[1;32m---> 32\u001b[1;33m     \u001b[1;32mfrom\u001b[0m \u001b[0mwatson_machine_learning_client\u001b[0m\u001b[1;33m.\u001b[0m\u001b[0mlibs\u001b[0m\u001b[1;33m.\u001b[0m\u001b[0mrepo\u001b[0m\u001b[1;33m.\u001b[0m\u001b[0mmlrepositoryartifact\u001b[0m\u001b[1;33m.\u001b[0m\u001b[0mscikit_pipeline_model_artifact\u001b[0m \u001b[1;32mimport\u001b[0m \u001b[0mScikitPipelineModelArtifact\u001b[0m\u001b[1;33m\u001b[0m\u001b[1;33m\u001b[0m\u001b[0m\n\u001b[0m\u001b[0;32m     33\u001b[0m     \u001b[1;32mfrom\u001b[0m \u001b[0msklearn\u001b[0m\u001b[1;33m.\u001b[0m\u001b[0mbase\u001b[0m \u001b[1;32mimport\u001b[0m \u001b[0mBaseEstimator\u001b[0m\u001b[1;33m\u001b[0m\u001b[1;33m\u001b[0m\u001b[0m\n\u001b[0;32m     34\u001b[0m \u001b[1;33m\u001b[0m\u001b[0m\n",
      "\u001b[1;32mc:\\users\\a826190\\iot-python_v1\\lib\\site-packages\\watson_machine_learning_client\\libs\\repo\\mlrepositoryartifact\\scikit_pipeline_model_artifact.py\u001b[0m in \u001b[0;36m<module>\u001b[1;34m\u001b[0m\n\u001b[0;32m     21\u001b[0m \u001b[1;33m\u001b[0m\u001b[0m\n\u001b[0;32m     22\u001b[0m \u001b[1;32mif\u001b[0m \u001b[0mlib_checker\u001b[0m\u001b[1;33m.\u001b[0m\u001b[0minstalled_libs\u001b[0m\u001b[1;33m[\u001b[0m\u001b[0mSCIKIT\u001b[0m\u001b[1;33m]\u001b[0m\u001b[1;33m:\u001b[0m\u001b[1;33m\u001b[0m\u001b[1;33m\u001b[0m\u001b[0m\n\u001b[1;32m---> 23\u001b[1;33m     \u001b[1;32mfrom\u001b[0m \u001b[0mwatson_machine_learning_client\u001b[0m\u001b[1;33m.\u001b[0m\u001b[0mlibs\u001b[0m\u001b[1;33m.\u001b[0m\u001b[0mrepo\u001b[0m\u001b[1;33m.\u001b[0m\u001b[0mmlrepositoryartifact\u001b[0m\u001b[1;33m.\u001b[0m\u001b[0mscikit_pipeline_reader\u001b[0m \u001b[1;32mimport\u001b[0m \u001b[0mScikitPipelineReader\u001b[0m\u001b[1;33m\u001b[0m\u001b[1;33m\u001b[0m\u001b[0m\n\u001b[0m\u001b[0;32m     24\u001b[0m     \u001b[1;32mfrom\u001b[0m \u001b[0mwatson_machine_learning_client\u001b[0m\u001b[1;33m.\u001b[0m\u001b[0mlibs\u001b[0m\u001b[1;33m.\u001b[0m\u001b[0mrepo\u001b[0m\u001b[1;33m.\u001b[0m\u001b[0mmlrepositoryartifact\u001b[0m\u001b[1;33m.\u001b[0m\u001b[0mxgboost_model_reader\u001b[0m \u001b[1;32mimport\u001b[0m \u001b[0mXGBoostModelReader\u001b[0m\u001b[1;33m\u001b[0m\u001b[1;33m\u001b[0m\u001b[0m\n\u001b[0;32m     25\u001b[0m     \u001b[1;32mfrom\u001b[0m \u001b[0msklearn\u001b[0m\u001b[1;33m.\u001b[0m\u001b[0mbase\u001b[0m \u001b[1;32mimport\u001b[0m \u001b[0mBaseEstimator\u001b[0m\u001b[1;33m\u001b[0m\u001b[1;33m\u001b[0m\u001b[0m\n",
      "\u001b[1;32mc:\\users\\a826190\\iot-python_v1\\lib\\site-packages\\watson_machine_learning_client\\libs\\repo\\mlrepositoryartifact\\scikit_pipeline_reader.py\u001b[0m in \u001b[0;36m<module>\u001b[1;34m\u001b[0m\n\u001b[0;32m     23\u001b[0m \u001b[1;33m\u001b[0m\u001b[0m\n\u001b[0;32m     24\u001b[0m \u001b[1;32mif\u001b[0m \u001b[0mlib_checker\u001b[0m\u001b[1;33m.\u001b[0m\u001b[0minstalled_libs\u001b[0m\u001b[1;33m[\u001b[0m\u001b[0mSCIKIT\u001b[0m\u001b[1;33m]\u001b[0m\u001b[1;33m:\u001b[0m\u001b[1;33m\u001b[0m\u001b[1;33m\u001b[0m\u001b[0m\n\u001b[1;32m---> 25\u001b[1;33m     \u001b[1;32mfrom\u001b[0m \u001b[0msklearn\u001b[0m\u001b[1;33m.\u001b[0m\u001b[0mexternals\u001b[0m \u001b[1;32mimport\u001b[0m \u001b[0mjoblib\u001b[0m\u001b[1;33m\u001b[0m\u001b[1;33m\u001b[0m\u001b[0m\n\u001b[0m\u001b[0;32m     26\u001b[0m \u001b[1;33m\u001b[0m\u001b[0m\n\u001b[0;32m     27\u001b[0m \u001b[0mlogger\u001b[0m \u001b[1;33m=\u001b[0m \u001b[0mlogging\u001b[0m\u001b[1;33m.\u001b[0m\u001b[0mgetLogger\u001b[0m\u001b[1;33m(\u001b[0m\u001b[1;34m'ScikitPipelineReader'\u001b[0m\u001b[1;33m)\u001b[0m\u001b[1;33m\u001b[0m\u001b[1;33m\u001b[0m\u001b[0m\n",
      "\u001b[1;31mImportError\u001b[0m: cannot import name 'joblib' from 'sklearn.externals' (c:\\users\\a826190\\iot-python_v1\\lib\\site-packages\\sklearn\\externals\\__init__.py)"
     ]
    }
   ],
   "source": [
    "import json\n",
    "import logging\n",
    "from sqlalchemy import Column, Integer, String, Float, DateTime, Boolean, func\n",
    "from iotfunctions import bif\n",
    "#import sklearn.external.joblib as extjoblib\n",
    "import joblib\n",
    "\n",
    "\n",
    "from iotfunctions.metadata import EntityType\n",
    "from iotfunctions.db import Database\n",
    "from iotfunctions.base import BaseTransformer\n",
    "from iotfunctions.bif import EntityDataGenerator\n",
    "\n",
    "import datetime as dt\n",
    "from datetime import datetime\n",
    "\n",
    "import pandas as pd\n",
    "import numpy as np\n",
    "\n",
    "from watson_machine_learning_client import WatsonMachineLearningAPIClient\n",
    "import pandas as pd\n",
    "from sklearn.ensemble import RandomForestRegressor\n",
    "from sklearn.pipeline import Pipeline\n",
    "import sklearn\n"
   ]
  },
  {
   "cell_type": "code",
   "execution_count": 17,
   "metadata": {
    "scrolled": false
   },
   "outputs": [],
   "source": [
    "# set Monitor credentials here and entity type\n",
    "credentials = {}\n",
    "with open('/Users/carlos.ferreira1ibm.com/ws/autoai/beta-1_credentials.json', encoding='utf-8') as F:\n",
    "    credentials = json.loads(F.read())\n",
    "db = Database(credentials = credentials)\n",
    "#db_schema = \"public\" #  set if you are not using the default\n",
    "db_schema = \"BLUADMIN\" #  set if you are not using the default\n",
    "entity_type = 'pump_co'"
   ]
  },
  {
   "cell_type": "code",
   "execution_count": 18,
   "metadata": {},
   "outputs": [
    {
     "name": "stdout",
     "output_type": "stream",
     "text": [
      "             head       POWER        speed         flow     CURRENT  \\\n",
      "count  323.000000  323.000000   323.000000   323.000000  323.000000   \n",
      "mean    60.899446   18.784659  1137.969040  1230.901136   32.578483   \n",
      "std      0.631698    0.211529     4.809957     5.231100    0.247478   \n",
      "min     58.799000   18.023000  1121.000000  1213.871000   31.970000   \n",
      "25%     60.778500   18.728000  1137.000000  1227.146500   32.410000   \n",
      "50%     61.084000   18.843000  1139.000000  1230.911000   32.580000   \n",
      "75%     61.299000   18.922000  1141.000000  1234.358500   32.760000   \n",
      "max     61.698000   19.148000  1144.000000  1246.215000   33.190000   \n",
      "\n",
      "          voltage  \n",
      "count  323.000000  \n",
      "mean   434.287926  \n",
      "std      2.965758  \n",
      "min    424.000000  \n",
      "25%    433.000000  \n",
      "50%    435.000000  \n",
      "75%    436.000000  \n",
      "max    439.000000  \n"
     ]
    }
   ],
   "source": [
    "#Read original pin data\n",
    "table_name= \"IOT_PUMP_CO\"\n",
    "df = db.read_table(table_name=table_name, schema=db_schema)\n",
    "print(df.describe())"
   ]
  },
  {
   "cell_type": "code",
   "execution_count": 19,
   "metadata": {
    "scrolled": true
   },
   "outputs": [
    {
     "name": "stdout",
     "output_type": "stream",
     "text": [
      "<bound method DataFrame.info of        head           evt_timestamp pump_mode   POWER   speed      flow  \\\n",
      "0    61.073 2020-01-19 04:34:52.950         a  18.900  1140.0  1235.149   \n",
      "1    61.093 2020-01-19 04:39:52.920         a  18.907  1140.0  1231.443   \n",
      "2    61.505 2020-01-19 04:44:53.120         a  18.893  1142.0  1229.242   \n",
      "3    61.033 2020-01-19 04:49:53.220         a  18.833  1139.0  1231.211   \n",
      "4    61.237 2020-01-19 04:54:53.180         a  18.753  1140.0  1228.130   \n",
      "..      ...                     ...       ...     ...     ...       ...   \n",
      "318  58.867 2020-01-20 06:54:59.480         a  18.276  1124.0  1240.579   \n",
      "319  59.232 2020-01-20 06:59:59.320         a  18.215  1125.0  1230.648   \n",
      "320  59.134 2020-01-20 07:04:59.390         a  18.202  1124.0  1223.719   \n",
      "321  59.225 2020-01-20 07:09:59.360         a  18.284  1125.0  1231.015   \n",
      "322  59.196 2020-01-20 07:14:59.520         a  18.264  1125.0  1235.009   \n",
      "\n",
      "     CURRENT  voltage devicetype  deviceid       logicalinterface_id  \\\n",
      "0      32.58    436.0    pump_co  111137F8  607c17a3ac2c05000a4d4374   \n",
      "1      32.81    437.0    pump_co  111137F8  607c17a3ac2c05000a4d4374   \n",
      "2      32.79    438.0    pump_co  111137F8  607c17a3ac2c05000a4d4374   \n",
      "3      32.43    436.0    pump_co  111137F8  607c17a3ac2c05000a4d4374   \n",
      "4      32.39    437.0    pump_co  111137F8  607c17a3ac2c05000a4d4374   \n",
      "..       ...      ...        ...       ...                       ...   \n",
      "318    32.54    426.0    pump_co  111137F8  607c17a3ac2c05000a4d4374   \n",
      "319    32.42    427.0    pump_co  111137F8  607c17a3ac2c05000a4d4374   \n",
      "320    32.42    426.0    pump_co  111137F8  607c17a3ac2c05000a4d4374   \n",
      "321    32.30    427.0    pump_co  111137F8  607c17a3ac2c05000a4d4374   \n",
      "322    32.33    427.0    pump_co  111137F8  607c17a3ac2c05000a4d4374   \n",
      "\n",
      "    eventtype format       rcv_timestamp_utc         updated_utc  \n",
      "0       event   json 2021-04-19 12:42:38.134 2021-04-19 12:42:38  \n",
      "1       event   json 2021-04-19 12:43:38.188 2021-04-19 12:43:38  \n",
      "2       event   json 2021-04-19 12:44:38.059 2021-04-19 12:44:38  \n",
      "3       event   json 2021-04-19 12:45:38.040 2021-04-19 12:45:38  \n",
      "4       event   json 2021-04-19 12:46:38.107 2021-04-19 12:46:38  \n",
      "..        ...    ...                     ...                 ...  \n",
      "318     event   json 2021-04-20 08:04:20.011 2021-04-20 08:04:20  \n",
      "319     event   json 2021-04-20 08:05:20.052 2021-04-20 08:05:20  \n",
      "320     event   json 2021-04-20 08:06:20.098 2021-04-20 08:06:20  \n",
      "321     event   json 2021-04-20 08:07:20.168 2021-04-20 08:07:20  \n",
      "322     event   json 2021-04-20 08:08:20.084 2021-04-20 08:08:20  \n",
      "\n",
      "[323 rows x 15 columns]>\n",
      "<bound method DataFrame.info of        head           evt_timestamp pump_mode   POWER   speed      flow  \\\n",
      "0    61.073 2020-01-19 04:34:52.950         a  18.900  1140.0  1235.149   \n",
      "1    61.093 2020-01-19 04:39:52.920         a  18.907  1140.0  1231.443   \n",
      "2    61.505 2020-01-19 04:44:53.120         a  18.893  1142.0  1229.242   \n",
      "3    61.033 2020-01-19 04:49:53.220         a  18.833  1139.0  1231.211   \n",
      "4    61.237 2020-01-19 04:54:53.180         a  18.753  1140.0  1228.130   \n",
      "..      ...                     ...       ...     ...     ...       ...   \n",
      "318  58.867 2020-01-20 06:54:59.480         a  18.276  1124.0  1240.579   \n",
      "319  59.232 2020-01-20 06:59:59.320         a  18.215  1125.0  1230.648   \n",
      "320  59.134 2020-01-20 07:04:59.390         a  18.202  1124.0  1223.719   \n",
      "321  59.225 2020-01-20 07:09:59.360         a  18.284  1125.0  1231.015   \n",
      "322  59.196 2020-01-20 07:14:59.520         a  18.264  1125.0  1235.009   \n",
      "\n",
      "     CURRENT  voltage devicetype  deviceid       logicalinterface_id  \\\n",
      "0      32.58    436.0    pump_co  111137F8  607c17a3ac2c05000a4d4374   \n",
      "1      32.81    437.0    pump_co  111137F8  607c17a3ac2c05000a4d4374   \n",
      "2      32.79    438.0    pump_co  111137F8  607c17a3ac2c05000a4d4374   \n",
      "3      32.43    436.0    pump_co  111137F8  607c17a3ac2c05000a4d4374   \n",
      "4      32.39    437.0    pump_co  111137F8  607c17a3ac2c05000a4d4374   \n",
      "..       ...      ...        ...       ...                       ...   \n",
      "318    32.54    426.0    pump_co  111137F8  607c17a3ac2c05000a4d4374   \n",
      "319    32.42    427.0    pump_co  111137F8  607c17a3ac2c05000a4d4374   \n",
      "320    32.42    426.0    pump_co  111137F8  607c17a3ac2c05000a4d4374   \n",
      "321    32.30    427.0    pump_co  111137F8  607c17a3ac2c05000a4d4374   \n",
      "322    32.33    427.0    pump_co  111137F8  607c17a3ac2c05000a4d4374   \n",
      "\n",
      "    eventtype format       rcv_timestamp_utc         updated_utc  \n",
      "0       event   json 2021-04-19 12:42:38.134 2021-04-19 12:42:38  \n",
      "1       event   json 2021-04-19 12:43:38.188 2021-04-19 12:43:38  \n",
      "2       event   json 2021-04-19 12:44:38.059 2021-04-19 12:44:38  \n",
      "3       event   json 2021-04-19 12:45:38.040 2021-04-19 12:45:38  \n",
      "4       event   json 2021-04-19 12:46:38.107 2021-04-19 12:46:38  \n",
      "..        ...    ...                     ...                 ...  \n",
      "318     event   json 2021-04-20 08:04:20.011 2021-04-20 08:04:20  \n",
      "319     event   json 2021-04-20 08:05:20.052 2021-04-20 08:05:20  \n",
      "320     event   json 2021-04-20 08:06:20.098 2021-04-20 08:06:20  \n",
      "321     event   json 2021-04-20 08:07:20.168 2021-04-20 08:07:20  \n",
      "322     event   json 2021-04-20 08:08:20.084 2021-04-20 08:08:20  \n",
      "\n",
      "[323 rows x 15 columns]>\n"
     ]
    }
   ],
   "source": [
    "# \"Drop Duplicates\")\n",
    "print(df.info)\n",
    "df.drop_duplicates()\n",
    "print(df.info)"
   ]
  },
  {
   "cell_type": "code",
   "execution_count": 20,
   "metadata": {},
   "outputs": [
    {
     "name": "stdout",
     "output_type": "stream",
     "text": [
      "0     2021-04-19 12:42:38.134\n",
      "1     2021-04-19 12:43:38.188\n",
      "2     2021-04-19 12:44:38.059\n",
      "3     2021-04-19 12:45:38.040\n",
      "4     2021-04-19 12:46:38.107\n",
      "                ...          \n",
      "318   2021-04-20 08:04:20.011\n",
      "319   2021-04-20 08:05:20.052\n",
      "320   2021-04-20 08:06:20.098\n",
      "321   2021-04-20 08:07:20.168\n",
      "322   2021-04-20 08:08:20.084\n",
      "Name: rcv_timestamp_utc, Length: 323, dtype: datetime64[ns]\n"
     ]
    }
   ],
   "source": [
    "print(df['rcv_timestamp_utc'])"
   ]
  },
  {
   "cell_type": "code",
   "execution_count": 21,
   "metadata": {},
   "outputs": [],
   "source": [
    "# Only run when you needed to export data to another Monitor Tenant\n",
    "#df['rcv_timestamp_utc'].apply(lambda x: x.strftime('%Y-%m-%d %H:%M:%S.%f')[:-3])\n",
    "# df['updated_utc'].apply(lambda x: x.strftime('%Y-%m-%d %H:%M:%S.%f')[:-3])\n",
    "df.to_csv('BackupPumpData.csv')"
   ]
  },
  {
   "cell_type": "code",
   "execution_count": 1,
   "metadata": {},
   "outputs": [],
   "source": [
    "# Start here when you have existing data on local drive\n",
    "import json\n",
    "import logging\n",
    "from sqlalchemy import Column, Integer, String, Float, DateTime, Boolean, func\n",
    "from iotfunctions import bif\n",
    "#import sklearn.external.joblib as extjoblib\n",
    "import joblib\n",
    "\n",
    "\n",
    "from iotfunctions.metadata import EntityType\n",
    "from iotfunctions.db import Database\n",
    "from iotfunctions.base import BaseTransformer\n",
    "from iotfunctions.bif import EntityDataGenerator\n",
    "\n",
    "import datetime as dt\n",
    "from datetime import datetime\n",
    "\n",
    "import pandas as pd\n",
    "import numpy as np\n",
    "\n",
    "#from watson_machine_learning_client import WatsonMachineLearningAPIClient\n",
    "import pandas as pd\n",
    "from sklearn.ensemble import RandomForestRegressor\n",
    "from sklearn.pipeline import Pipeline\n",
    "import sklearn"
   ]
  },
  {
   "cell_type": "code",
   "execution_count": 2,
   "metadata": {},
   "outputs": [],
   "source": [
    "#r_df = pd.read_csv('/Users/carlos.ferreira1ibm.com/ws/predict_delphi/notebooks/Armstrong/data/1096-first-50-hours.csv')\n",
    "r_df = pd.read_csv('/Users/carlos.ferreira1ibm.com/ws/autoai/data/maximo-auto_ai_pump_data.csv',index_col=False)"
   ]
  },
  {
   "cell_type": "code",
   "execution_count": 3,
   "metadata": {},
   "outputs": [
    {
     "name": "stdout",
     "output_type": "stream",
     "text": [
      "<bound method NDFrame.describe of        Unnamed: 0        rcv_timestamp_utc              updated_utc   speed  \\\n",
      "0             548  2020-08-30 13:35:15.849  2020-08-30 13:35:15.000  1156.0   \n",
      "1             657  2020-08-30 13:55:15.950  2020-08-30 13:55:15.000  1156.0   \n",
      "2             874  2020-12-02 14:43:18.176  2020-12-02 14:43:18.000  1154.0   \n",
      "3            1087  2020-10-13 12:58:20.934  2020-10-13 12:58:20.000  1160.0   \n",
      "4            1150  2020-04-24 16:59:26.481  2020-04-24 16:59:26.000   971.0   \n",
      "...           ...                      ...                      ...     ...   \n",
      "66119      813764  2021-01-30 14:06:10.041  2021-01-30 14:06:10.000  1148.0   \n",
      "66120      813780  2021-01-30 14:11:09.922  2021-01-30 14:11:09.000  1148.0   \n",
      "66121      813803  2021-01-30 15:41:10.371  2021-01-30 15:41:10.000  1146.0   \n",
      "66122      813821  2021-01-30 15:46:10.130  2021-01-30 15:46:10.000  1147.0   \n",
      "66123      813836  2021-01-30 15:51:10.379  2021-01-30 15:51:10.000  1148.0   \n",
      "\n",
      "         head     device_id pump_mode      flow  voltage   POWER  CURRENT  \n",
      "0      63.958  04714B6037F8         a  1193.607    438.0  19.316    32.76  \n",
      "1      64.075  04714B6037F8         a  1203.384    438.0  19.366    33.10  \n",
      "2      63.882  04714B6037F8         a  1198.567    431.0  19.224    33.26  \n",
      "3      64.694  04714B6037F8         a  1190.626    438.0  19.452    33.16  \n",
      "4      45.394  04714B6037F8         a   989.633    331.0  11.471    26.44  \n",
      "...       ...           ...       ...       ...      ...     ...      ...  \n",
      "66119  63.126  04714B6037F8         a  1192.041    434.0  18.951    33.06  \n",
      "66120  63.155  04714B6037F8         a  1190.741    434.0  18.941    32.67  \n",
      "66121  62.950  04714B6037F8         a  1189.493    435.0  18.814    32.41  \n",
      "66122  62.979  04714B6037F8         a  1192.673    436.0  18.896    32.87  \n",
      "66123  62.941  04714B6037F8         a  1195.843    436.0  19.020    32.62  \n",
      "\n",
      "[66124 rows x 11 columns]>\n"
     ]
    }
   ],
   "source": [
    "print(r_df.describe)"
   ]
  },
  {
   "cell_type": "code",
   "execution_count": 4,
   "metadata": {},
   "outputs": [
    {
     "name": "stdout",
     "output_type": "stream",
     "text": [
      "<bound method NDFrame.describe of        Unnamed: 0        rcv_timestamp_utc              updated_utc   speed  \\\n",
      "0             548  2020-08-30 13:35:15.849  2020-08-30 13:35:15.000  1156.0   \n",
      "1             657  2020-08-30 13:55:15.950  2020-08-30 13:55:15.000  1156.0   \n",
      "2             874  2020-12-02 14:43:18.176  2020-12-02 14:43:18.000  1154.0   \n",
      "3            1087  2020-10-13 12:58:20.934  2020-10-13 12:58:20.000  1160.0   \n",
      "4            1150  2020-04-24 16:59:26.481  2020-04-24 16:59:26.000   971.0   \n",
      "...           ...                      ...                      ...     ...   \n",
      "66119      813764  2021-01-30 14:06:10.041  2021-01-30 14:06:10.000  1148.0   \n",
      "66120      813780  2021-01-30 14:11:09.922  2021-01-30 14:11:09.000  1148.0   \n",
      "66121      813803  2021-01-30 15:41:10.371  2021-01-30 15:41:10.000  1146.0   \n",
      "66122      813821  2021-01-30 15:46:10.130  2021-01-30 15:46:10.000  1147.0   \n",
      "66123      813836  2021-01-30 15:51:10.379  2021-01-30 15:51:10.000  1148.0   \n",
      "\n",
      "         head     device_id pump_mode      flow  voltage   POWER  CURRENT  \n",
      "0      63.958  04714B6037F8         a  1193.607    438.0  19.316    32.76  \n",
      "1      64.075  04714B6037F8         a  1203.384    438.0  19.366    33.10  \n",
      "2      63.882  04714B6037F8         a  1198.567    431.0  19.224    33.26  \n",
      "3      64.694  04714B6037F8         a  1190.626    438.0  19.452    33.16  \n",
      "4      45.394  04714B6037F8         a   989.633    331.0  11.471    26.44  \n",
      "...       ...           ...       ...       ...      ...     ...      ...  \n",
      "66119  63.126  04714B6037F8         a  1192.041    434.0  18.951    33.06  \n",
      "66120  63.155  04714B6037F8         a  1190.741    434.0  18.941    32.67  \n",
      "66121  62.950  04714B6037F8         a  1189.493    435.0  18.814    32.41  \n",
      "66122  62.979  04714B6037F8         a  1192.673    436.0  18.896    32.87  \n",
      "66123  62.941  04714B6037F8         a  1195.843    436.0  19.020    32.62  \n",
      "\n",
      "[66124 rows x 11 columns]>\n"
     ]
    }
   ],
   "source": [
    "print(r_df.describe)"
   ]
  },
  {
   "cell_type": "code",
   "execution_count": 5,
   "metadata": {
    "scrolled": false
   },
   "outputs": [
    {
     "name": "stdout",
     "output_type": "stream",
     "text": [
      "Unnamed: 0\n",
      "rcv_timestamp_utc\n",
      "updated_utc\n",
      "speed\n",
      "head\n",
      "device_id\n",
      "pump_mode\n",
      "flow\n",
      "voltage\n",
      "POWER\n",
      "CURRENT\n"
     ]
    }
   ],
   "source": [
    "for col in r_df.columns:\n",
    "    print(col)"
   ]
  },
  {
   "cell_type": "code",
   "execution_count": 6,
   "metadata": {
    "scrolled": true
   },
   "outputs": [
    {
     "name": "stdout",
     "output_type": "stream",
     "text": [
      "a_df.shape 1\n",
      "(66124, 11)\n",
      "       Unnamed: 0        rcv_timestamp_utc              updated_utc   speed  \\\n",
      "0             548  2020-08-30 13:35:15.849  2020-08-30 13:35:15.000  1156.0   \n",
      "1             657  2020-08-30 13:55:15.950  2020-08-30 13:55:15.000  1156.0   \n",
      "2             874  2020-12-02 14:43:18.176  2020-12-02 14:43:18.000  1154.0   \n",
      "3            1087  2020-10-13 12:58:20.934  2020-10-13 12:58:20.000  1160.0   \n",
      "4            1150  2020-04-24 16:59:26.481  2020-04-24 16:59:26.000   971.0   \n",
      "...           ...                      ...                      ...     ...   \n",
      "66119      813764  2021-01-30 14:06:10.041  2021-01-30 14:06:10.000  1148.0   \n",
      "66120      813780  2021-01-30 14:11:09.922  2021-01-30 14:11:09.000  1148.0   \n",
      "66121      813803  2021-01-30 15:41:10.371  2021-01-30 15:41:10.000  1146.0   \n",
      "66122      813821  2021-01-30 15:46:10.130  2021-01-30 15:46:10.000  1147.0   \n",
      "66123      813836  2021-01-30 15:51:10.379  2021-01-30 15:51:10.000  1148.0   \n",
      "\n",
      "         head     device_id pump_mode      flow  voltage   POWER  CURRENT  \n",
      "0      63.958  04714B6037F8         a  1193.607    438.0  19.316    32.76  \n",
      "1      64.075  04714B6037F8         a  1203.384    438.0  19.366    33.10  \n",
      "2      63.882  04714B6037F8         a  1198.567    431.0  19.224    33.26  \n",
      "3      64.694  04714B6037F8         a  1190.626    438.0  19.452    33.16  \n",
      "4      45.394  04714B6037F8         a   989.633    331.0  11.471    26.44  \n",
      "...       ...           ...       ...       ...      ...     ...      ...  \n",
      "66119  63.126  04714B6037F8         a  1192.041    434.0  18.951    33.06  \n",
      "66120  63.155  04714B6037F8         a  1190.741    434.0  18.941    32.67  \n",
      "66121  62.950  04714B6037F8         a  1189.493    435.0  18.814    32.41  \n",
      "66122  62.979  04714B6037F8         a  1192.673    436.0  18.896    32.87  \n",
      "66123  62.941  04714B6037F8         a  1195.843    436.0  19.020    32.62  \n",
      "\n",
      "[66124 rows x 11 columns]\n"
     ]
    }
   ],
   "source": [
    "# Build a model for each Entity in the EntityType\n",
    "entity_type = 'pump_cp'\n",
    "entity_type_id = 19305\n",
    "#entity_name = '04714B601096'\n",
    "entity_name = '04714B6037F8'\n",
    "a_df = r_df.loc[r_df['device_id'] == entity_name, :]\n",
    "print ('a_df.shape 1')\n",
    "print (a_df.shape)\n",
    "print (a_df)\n",
    "\n"
   ]
  },
  {
   "cell_type": "code",
   "execution_count": 7,
   "metadata": {},
   "outputs": [
    {
     "name": "stdout",
     "output_type": "stream",
     "text": [
      "rcv_timestamp_utc\n",
      "updated_utc\n",
      "speed\n",
      "head\n",
      "device_id\n",
      "pump_mode\n",
      "flow\n",
      "voltage\n",
      "POWER\n",
      "CURRENT\n"
     ]
    }
   ],
   "source": [
    "#drop_cols= ['Unnamed: 0', 'id',  'head','rcv_timestamp_utc', 'warn','kw_hour', 'alarm', 'TIMESTAMP',\n",
    "#                'pump_mode', 'devicetype', 'deviceid', 'temperature', 'logicalinterface_id', 'eventtype', 'accel_speed',\n",
    "#                'format', 'vibrations_xaxis', 'vibrations_yaxis', 'vibrations_zaxis', \n",
    "#                'rmsn_z', 'rmsn_x', 'rmsn_y', 'rms_x_avg', 'pwr', 'hw_ver', 'dq', 'fw_ver', 'anomaly_score',\n",
    "#                'accel_power', 'rms_x', 'rms_y','rms_z', 'VERSION', 'run_qty', 'tag_number', 'design_head', 'perf_option', \n",
    "#                'design_flow', 'pts_count', 'serial_number', 'firmware_ver', 'reated_power', 'vibration_n_yaxis', \n",
    "#                'vibration_n_xaxis', 'vibration_n_zaxis', 'rated_current', 'rated_speed', 'hardware_ver', 'pts']\n",
    "drop_cols= ['Unnamed: 0']\n",
    "ac_df = a_df.drop(columns=drop_cols)\n",
    "for col in ac_df.columns:\n",
    "    print(col)"
   ]
  },
  {
   "cell_type": "code",
   "execution_count": 8,
   "metadata": {},
   "outputs": [],
   "source": [
    "# Save the data file for tutorial\n",
    "ac_df.dropna().to_csv('maximo-auto_ai_pump_data.csv', date_format='%Y-%m-%d.%H:%M:%S.%f')"
   ]
  },
  {
   "cell_type": "code",
   "execution_count": 9,
   "metadata": {},
   "outputs": [
    {
     "name": "stdout",
     "output_type": "stream",
     "text": [
      "<bound method NDFrame.describe of              rcv_timestamp_utc              updated_utc   speed    head  \\\n",
      "0      2020-08-30 13:35:15.849  2020-08-30 13:35:15.000  1156.0  63.958   \n",
      "1      2020-08-30 13:55:15.950  2020-08-30 13:55:15.000  1156.0  64.075   \n",
      "2      2020-12-02 14:43:18.176  2020-12-02 14:43:18.000  1154.0  63.882   \n",
      "3      2020-10-13 12:58:20.934  2020-10-13 12:58:20.000  1160.0  64.694   \n",
      "4      2020-04-24 16:59:26.481  2020-04-24 16:59:26.000   971.0  45.394   \n",
      "...                        ...                      ...     ...     ...   \n",
      "66119  2021-01-30 14:06:10.041  2021-01-30 14:06:10.000  1148.0  63.126   \n",
      "66120  2021-01-30 14:11:09.922  2021-01-30 14:11:09.000  1148.0  63.155   \n",
      "66121  2021-01-30 15:41:10.371  2021-01-30 15:41:10.000  1146.0  62.950   \n",
      "66122  2021-01-30 15:46:10.130  2021-01-30 15:46:10.000  1147.0  62.979   \n",
      "66123  2021-01-30 15:51:10.379  2021-01-30 15:51:10.000  1148.0  62.941   \n",
      "\n",
      "          device_id pump_mode      flow  voltage   POWER  CURRENT  \n",
      "0      04714B6037F8         a  1193.607    438.0  19.316    32.76  \n",
      "1      04714B6037F8         a  1203.384    438.0  19.366    33.10  \n",
      "2      04714B6037F8         a  1198.567    431.0  19.224    33.26  \n",
      "3      04714B6037F8         a  1190.626    438.0  19.452    33.16  \n",
      "4      04714B6037F8         a   989.633    331.0  11.471    26.44  \n",
      "...             ...       ...       ...      ...     ...      ...  \n",
      "66119  04714B6037F8         a  1192.041    434.0  18.951    33.06  \n",
      "66120  04714B6037F8         a  1190.741    434.0  18.941    32.67  \n",
      "66121  04714B6037F8         a  1189.493    435.0  18.814    32.41  \n",
      "66122  04714B6037F8         a  1192.673    436.0  18.896    32.87  \n",
      "66123  04714B6037F8         a  1195.843    436.0  19.020    32.62  \n",
      "\n",
      "[66124 rows x 10 columns]>\n",
      "0\n",
      "0\n",
      "0\n",
      "0\n",
      "0\n",
      "Any Nulls\n",
      "False\n"
     ]
    }
   ],
   "source": [
    "# Check df for NaN in 'POWER','FLOW', 'SPEED', 'HEAD'\n",
    "#print(e_df.isnull().values.any())\n",
    "\n",
    "print(ac_df.describe)\n",
    "    \n",
    "# Check each column for NaN\n",
    "print(ac_df['speed'].isnull().sum())\n",
    "print(ac_df['flow'].isnull().sum())\n",
    "print(ac_df['voltage'].isnull().sum())\n",
    "print(ac_df['CURRENT'].isnull().sum())\n",
    "print(ac_df['POWER'].isnull().sum())\n",
    "sc_df = ac_df.dropna()\n",
    "print(\"Any Nulls\")\n",
    "print(sc_df.isnull().values.any())"
   ]
  },
  {
   "cell_type": "code",
   "execution_count": 10,
   "metadata": {},
   "outputs": [
    {
     "name": "stdout",
     "output_type": "stream",
     "text": [
      "<bound method NDFrame.describe of              rcv_timestamp_utc              updated_utc   speed    head  \\\n",
      "0      2020-08-30 13:35:15.849  2020-08-30 13:35:15.000  1156.0  63.958   \n",
      "1      2020-08-30 13:55:15.950  2020-08-30 13:55:15.000  1156.0  64.075   \n",
      "2      2020-12-02 14:43:18.176  2020-12-02 14:43:18.000  1154.0  63.882   \n",
      "3      2020-10-13 12:58:20.934  2020-10-13 12:58:20.000  1160.0  64.694   \n",
      "4      2020-04-24 16:59:26.481  2020-04-24 16:59:26.000   971.0  45.394   \n",
      "...                        ...                      ...     ...     ...   \n",
      "66119  2021-01-30 14:06:10.041  2021-01-30 14:06:10.000  1148.0  63.126   \n",
      "66120  2021-01-30 14:11:09.922  2021-01-30 14:11:09.000  1148.0  63.155   \n",
      "66121  2021-01-30 15:41:10.371  2021-01-30 15:41:10.000  1146.0  62.950   \n",
      "66122  2021-01-30 15:46:10.130  2021-01-30 15:46:10.000  1147.0  62.979   \n",
      "66123  2021-01-30 15:51:10.379  2021-01-30 15:51:10.000  1148.0  62.941   \n",
      "\n",
      "          device_id pump_mode      flow  voltage   POWER  CURRENT  \n",
      "0      04714B6037F8         a  1193.607    438.0  19.316    32.76  \n",
      "1      04714B6037F8         a  1203.384    438.0  19.366    33.10  \n",
      "2      04714B6037F8         a  1198.567    431.0  19.224    33.26  \n",
      "3      04714B6037F8         a  1190.626    438.0  19.452    33.16  \n",
      "4      04714B6037F8         a   989.633    331.0  11.471    26.44  \n",
      "...             ...       ...       ...      ...     ...      ...  \n",
      "66119  04714B6037F8         a  1192.041    434.0  18.951    33.06  \n",
      "66120  04714B6037F8         a  1190.741    434.0  18.941    32.67  \n",
      "66121  04714B6037F8         a  1189.493    435.0  18.814    32.41  \n",
      "66122  04714B6037F8         a  1192.673    436.0  18.896    32.87  \n",
      "66123  04714B6037F8         a  1195.843    436.0  19.020    32.62  \n",
      "\n",
      "[66124 rows x 10 columns]>\n"
     ]
    }
   ],
   "source": [
    "print(sc_df.describe)"
   ]
  },
  {
   "cell_type": "code",
   "execution_count": 11,
   "metadata": {},
   "outputs": [
    {
     "name": "stdout",
     "output_type": "stream",
     "text": [
      "rcv_timestamp_utc\n",
      "updated_utc\n",
      "speed\n",
      "head\n",
      "device_id\n",
      "pump_mode\n",
      "flow\n",
      "voltage\n",
      "POWER\n",
      "CURRENT\n",
      "--- x data ---\n",
      "    speed      flow  voltage  CURRENT\n",
      "0  1156.0  1193.607    438.0    32.76\n",
      "1  1156.0  1203.384    438.0    33.10\n",
      "2  1154.0  1198.567    431.0    33.26\n",
      "3  1160.0  1190.626    438.0    33.16\n",
      "4   971.0   989.633    331.0    26.44\n",
      "<class 'pandas.core.frame.DataFrame'>\n",
      "Int64Index: 66124 entries, 0 to 66123\n",
      "Data columns (total 4 columns):\n",
      " #   Column   Non-Null Count  Dtype  \n",
      "---  ------   --------------  -----  \n",
      " 0   speed    66124 non-null  float64\n",
      " 1   flow     66124 non-null  float64\n",
      " 2   voltage  66124 non-null  float64\n",
      " 3   CURRENT  66124 non-null  float64\n",
      "dtypes: float64(4)\n",
      "memory usage: 2.5 MB\n",
      "None\n",
      "x.shape\n",
      "(66124, 4)\n",
      "--- y data ---\n",
      "    POWER\n",
      "0  19.316\n",
      "1  19.366\n",
      "2  19.224\n",
      "3  19.452\n",
      "4  11.471\n",
      "y.shape\n",
      "(66124, 1)\n",
      "<class 'pandas.core.frame.DataFrame'>\n",
      "Int64Index: 66124 entries, 0 to 66123\n",
      "Data columns (total 1 columns):\n",
      " #   Column  Non-Null Count  Dtype  \n",
      "---  ------  --------------  -----  \n",
      " 0   POWER   66124 non-null  float64\n",
      "dtypes: float64(1)\n",
      "memory usage: 1.0 MB\n",
      "None\n",
      "s_df.shape 1\n",
      "(66124, 5)\n",
      "<bound method NDFrame.describe of         speed      flow  voltage  CURRENT   POWER\n",
      "0      1156.0  1193.607    438.0    32.76  19.316\n",
      "1      1156.0  1203.384    438.0    33.10  19.366\n",
      "2      1154.0  1198.567    431.0    33.26  19.224\n",
      "3      1160.0  1190.626    438.0    33.16  19.452\n",
      "4       971.0   989.633    331.0    26.44  11.471\n",
      "...       ...       ...      ...      ...     ...\n",
      "66119  1148.0  1192.041    434.0    33.06  18.951\n",
      "66120  1148.0  1190.741    434.0    32.67  18.941\n",
      "66121  1146.0  1189.493    435.0    32.41  18.814\n",
      "66122  1147.0  1192.673    436.0    32.87  18.896\n",
      "66123  1148.0  1195.843    436.0    32.62  19.020\n",
      "\n",
      "[66124 rows x 5 columns]>\n",
      "False\n",
      "0\n",
      "0\n",
      "0\n",
      "0\n",
      "0\n",
      "False\n"
     ]
    }
   ],
   "source": [
    "# Pick input colums to predict power using   'flow', 'speed', 'head'\n",
    "model_columns = ['speed', 'flow', 'voltage', 'CURRENT','POWER']\n",
    "for col in sc_df:\n",
    "    print(col)\n",
    "\n",
    "# Separate input  (speed, flow, voltage, current) and output x (what you want to predict which is power)\n",
    "print (\"--- x data ---\")\n",
    "\n",
    "x = sc_df.drop(['POWER', 'device_id', 'updated_utc', 'rcv_timestamp_utc', 'pump_mode', 'head'], axis = 1)\n",
    "\n",
    "print ( x.head() )\n",
    "print (x.info())\n",
    "print(\"x.shape\")\n",
    "print(x.shape)\n",
    "\n",
    "print (\"--- y data ---\")\n",
    "y = sc_df.filter(['POWER'], axis=1)\n",
    "print (y.head())\n",
    "print(\"y.shape\")\n",
    "print(y.shape)\n",
    "print( y.info() )\n",
    "\n",
    "s_df = sc_df.loc[sc_df['device_id'] == entity_name, :][model_columns]\n",
    "\n",
    "print ('s_df.shape 1')\n",
    "print (s_df.shape)\n",
    "print (s_df.describe)\n",
    "\n",
    "# Check df for NaN\n",
    "print(s_df.isnull().values.any())\n",
    "print(s_df['speed'].isnull().sum())\n",
    "print(s_df['flow'].isnull().sum())\n",
    "print(s_df['voltage'].isnull().sum())\n",
    "print(s_df['CURRENT'].isnull().sum())\n",
    "print(s_df['POWER'].isnull().sum())\n",
    "\n",
    "\n",
    "print(sc_df.isnull().values.any())"
   ]
  },
  {
   "cell_type": "code",
   "execution_count": 12,
   "metadata": {},
   "outputs": [
    {
     "name": "stdout",
     "output_type": "stream",
     "text": [
      "<bound method NDFrame.describe of              rcv_timestamp_utc              updated_utc   speed    head  \\\n",
      "0      2020-08-30 13:35:15.849  2020-08-30 13:35:15.000  1156.0  63.958   \n",
      "1      2020-08-30 13:55:15.950  2020-08-30 13:55:15.000  1156.0  64.075   \n",
      "2      2020-12-02 14:43:18.176  2020-12-02 14:43:18.000  1154.0  63.882   \n",
      "3      2020-10-13 12:58:20.934  2020-10-13 12:58:20.000  1160.0  64.694   \n",
      "4      2020-04-24 16:59:26.481  2020-04-24 16:59:26.000   971.0  45.394   \n",
      "...                        ...                      ...     ...     ...   \n",
      "66119  2021-01-30 14:06:10.041  2021-01-30 14:06:10.000  1148.0  63.126   \n",
      "66120  2021-01-30 14:11:09.922  2021-01-30 14:11:09.000  1148.0  63.155   \n",
      "66121  2021-01-30 15:41:10.371  2021-01-30 15:41:10.000  1146.0  62.950   \n",
      "66122  2021-01-30 15:46:10.130  2021-01-30 15:46:10.000  1147.0  62.979   \n",
      "66123  2021-01-30 15:51:10.379  2021-01-30 15:51:10.000  1148.0  62.941   \n",
      "\n",
      "          device_id pump_mode      flow  voltage   POWER  CURRENT  \n",
      "0      04714B6037F8         a  1193.607    438.0  19.316    32.76  \n",
      "1      04714B6037F8         a  1203.384    438.0  19.366    33.10  \n",
      "2      04714B6037F8         a  1198.567    431.0  19.224    33.26  \n",
      "3      04714B6037F8         a  1190.626    438.0  19.452    33.16  \n",
      "4      04714B6037F8         a   989.633    331.0  11.471    26.44  \n",
      "...             ...       ...       ...      ...     ...      ...  \n",
      "66119  04714B6037F8         a  1192.041    434.0  18.951    33.06  \n",
      "66120  04714B6037F8         a  1190.741    434.0  18.941    32.67  \n",
      "66121  04714B6037F8         a  1189.493    435.0  18.814    32.41  \n",
      "66122  04714B6037F8         a  1192.673    436.0  18.896    32.87  \n",
      "66123  04714B6037F8         a  1195.843    436.0  19.020    32.62  \n",
      "\n",
      "[66124 rows x 10 columns]>\n"
     ]
    }
   ],
   "source": [
    "print(sc_df.describe)"
   ]
  },
  {
   "cell_type": "code",
   "execution_count": 13,
   "metadata": {},
   "outputs": [],
   "source": [
    "# Split data into train and test\n",
    "from sklearn.model_selection import train_test_split \n",
    "#  Assign variables to capture train and test split  output\n",
    "X_train, X_test, y_train, y_test = train_test_split(x, y, test_size=0.20, random_state=42)"
   ]
  },
  {
   "cell_type": "code",
   "execution_count": 14,
   "metadata": {},
   "outputs": [
    {
     "data": {
      "text/plain": [
       "<Figure size 1000x300 with 2 Axes>"
      ]
     },
     "metadata": {},
     "output_type": "display_data"
    }
   ],
   "source": [
    "# https://scikit-learn.org/stable/auto_examples/cross_decomposition/plot_pcr_vs_pls.html#sphx-glr-auto-examples-cross-decomposition-plot-pcr-vs-pls-py\n",
    "# \n",
    "from sklearn.model_selection import train_test_split\n",
    "from sklearn.pipeline import make_pipeline\n",
    "from sklearn.linear_model import LinearRegression\n",
    "from sklearn.preprocessing import StandardScaler\n",
    "from sklearn.decomposition import PCA\n",
    "from sklearn.cross_decomposition import PLSRegression\n",
    " # Validate you are getting good data for a single asset by plotting data\n",
    "import matplotlib.pyplot as plt\n",
    "\n",
    "pcr = make_pipeline(StandardScaler(), PCA(n_components=1), LinearRegression())\n",
    "pcr.fit(X_train, y_train)\n",
    "pca = pcr.named_steps['pca']  # retrieve the PCA step of the pipeline\n",
    "\n",
    "pls = PLSRegression(n_components=1)\n",
    "pls.fit(X_train, y_train)\n",
    "\n",
    "fig, axes = plt.subplots(1, 2, figsize=(10, 3))\n",
    "axes[0].scatter(pca.transform(X_test), y_test, alpha=.3, label='ground truth')\n",
    "axes[0].scatter(pca.transform(X_test), pcr.predict(X_test), alpha=.3,\n",
    "                label='predictions')\n",
    "axes[0].set(xlabel='Projected data onto first PCA component',\n",
    "            ylabel='y', title='PCR / PCA')\n",
    "axes[0].legend()\n",
    "axes[1].scatter(pls.transform(X_test), y_test, alpha=.3, label='ground truth')\n",
    "axes[1].scatter(pls.transform(X_test), pls.predict(X_test), alpha=.3,\n",
    "                label='predictions')\n",
    "axes[1].set(xlabel='Projected data onto first PLS component',\n",
    "            ylabel='y', title='PLS')\n",
    "axes[1].legend()\n",
    "plt.tight_layout()\n",
    "plt.show()"
   ]
  },
  {
   "cell_type": "code",
   "execution_count": 15,
   "metadata": {},
   "outputs": [
    {
     "name": "stdout",
     "output_type": "stream",
     "text": [
      "y_train\n",
      "        POWER\n",
      "46846  19.604\n",
      "65155  18.436\n",
      "52150  19.294\n",
      "28705  18.494\n",
      "61397  18.443\n",
      "...       ...\n",
      "37194  19.231\n",
      "6265   18.875\n",
      "54886  19.044\n",
      "860    18.790\n",
      "15795  16.408\n",
      "\n",
      "[52899 rows x 1 columns]\n",
      "Power should be 2.154\n",
      "[12.9042]\n",
      "Predictions\n",
      "[19.2655 18.8726 18.6024 ... 19.25   19.0008 18.8868]\n",
      "(13225,)\n"
     ]
    }
   ],
   "source": [
    "# Assess a predictions using Random Forest \n",
    "# From Tutorial https://towardsdatascience.com/train-test-split-and-cross-validation-in-python-80b61beca4b6\n",
    "\n",
    "\n",
    "# Define the model\n",
    "#model = ExtraTreesRegressor(n_estimators =1000, min_samples_split =0.5)\n",
    "random_forest_model = RandomForestRegressor()\n",
    "\n",
    "print (\"y_train\")\n",
    "print (y_train)\n",
    "\n",
    "# fit the model on the whole dataset\n",
    "random_forest_model.fit(X_train, y_train.values.ravel() )\n",
    "\n",
    "# Predict a single row prediction\n",
    "#--- x data ---\n",
    "#       SPEED    FLOW  VOLTAGE  CURRENT  POWER\n",
    "#0    1053.0  16.294  251.0    7.15     1.556\n",
    "#131  1071.0  61.006  257.0    7.70     1.950\n",
    "#132  1077.0  69.099  259.0    7.85     2.024\n",
    "#133  1082.0  78.005  261.0    7.95     2.148\n",
    "#134  1085.0  80.894  262.0    8.03     2.154\n",
    "\n",
    "#--- y data ---\n",
    "# Power should be 2.154\n",
    "\n",
    "row = [[ 1085.0,  80.894,  262.0,  8.03]]\n",
    "\n",
    "yhat = random_forest_model.predict(row)\n",
    "print(\"Power should be 2.154\")\n",
    "print(yhat)\n",
    "\n",
    "# Predict entire training set\n",
    "x_pos_predictions = random_forest_model.predict(X_test)\n",
    "\n",
    "print(\"Predictions\")\n",
    "print ( x_pos_predictions )\n",
    "print( x_pos_predictions.shape)\n",
    "\n",
    "# Add the prediction to the dataframe\n",
    "#s_df['predict_x1_position'] = x_pos_predictions "
   ]
  },
  {
   "cell_type": "code",
   "execution_count": 16,
   "metadata": {},
   "outputs": [
    {
     "name": "stdout",
     "output_type": "stream",
     "text": [
      "<class 'pandas.core.frame.DataFrame'>\n",
      "Int64Index: 13225 entries, 39488 to 4779\n",
      "Data columns (total 4 columns):\n",
      " #   Column   Non-Null Count  Dtype  \n",
      "---  ------   --------------  -----  \n",
      " 0   speed    13225 non-null  float64\n",
      " 1   flow     13225 non-null  float64\n",
      " 2   voltage  13225 non-null  float64\n",
      " 3   CURRENT  13225 non-null  float64\n",
      "dtypes: float64(4)\n",
      "memory usage: 516.6 KB\n"
     ]
    }
   ],
   "source": [
    "X_test.info()"
   ]
  },
  {
   "cell_type": "code",
   "execution_count": 17,
   "metadata": {},
   "outputs": [
    {
     "name": "stdout",
     "output_type": "stream",
     "text": [
      "Score: 0.9997949737071588\n"
     ]
    },
    {
     "data": {
      "image/png": "[encoded data removed]",
      "text/plain": [
       "<Figure size 432x288 with 1 Axes>"
      ]
     },
     "metadata": {
      "needs_background": "light"
     },
     "output_type": "display_data"
    }
   ],
   "source": [
    "## Plot the prediction The line / model\n",
    "plt.scatter(y_test, x_pos_predictions)\n",
    "plt.xlabel('True Values')\n",
    "plt.ylabel('Predictions')\n",
    "print('Score:', random_forest_model.score(X_test, y_test) )"
   ]
  },
  {
   "cell_type": "code",
   "execution_count": 18,
   "metadata": {},
   "outputs": [
    {
     "name": "stdout",
     "output_type": "stream",
     "text": [
      "MAE\n",
      "0.03439337261079605\n",
      "MSE\n",
      "0.002039674739541761\n",
      "RMSE\n",
      "0.045162758325214825\n"
     ]
    }
   ],
   "source": [
    "# Import metrics library\n",
    "from sklearn import metrics\n",
    "print(\"MAE\")\n",
    "print(metrics.mean_absolute_error(y_test, x_pos_predictions))\n",
    "print(\"MSE\")\n",
    "print(metrics.mean_squared_error(y_test, x_pos_predictions))\n",
    "print(\"RMSE\")\n",
    "print(np.sqrt(metrics.mean_squared_error(y_test, x_pos_predictions)))"
   ]
  },
  {
   "cell_type": "code",
   "execution_count": 19,
   "metadata": {},
   "outputs": [
    {
     "name": "stdout",
     "output_type": "stream",
     "text": [
      "s_df.shape\n",
      "(66124, 7)\n"
     ]
    },
    {
     "data": {
      "text/html": [
       "<div>\n",
       "<style scoped>\n",
       "    .dataframe tbody tr th:only-of-type {\n",
       "        vertical-align: middle;\n",
       "    }\n",
       "\n",
       "    .dataframe tbody tr th {\n",
       "        vertical-align: top;\n",
       "    }\n",
       "\n",
       "    .dataframe thead th {\n",
       "        text-align: right;\n",
       "    }\n",
       "</style>\n",
       "<table border=\"1\" class=\"dataframe\">\n",
       "  <thead>\n",
       "    <tr style=\"text-align: right;\">\n",
       "      <th></th>\n",
       "      <th>speed</th>\n",
       "      <th>flow</th>\n",
       "      <th>voltage</th>\n",
       "      <th>CURRENT</th>\n",
       "      <th>POWER</th>\n",
       "      <th>device_id</th>\n",
       "      <th>updated_utc</th>\n",
       "    </tr>\n",
       "  </thead>\n",
       "  <tbody>\n",
       "    <tr>\n",
       "      <th>0</th>\n",
       "      <td>1156.0</td>\n",
       "      <td>1193.607</td>\n",
       "      <td>438.0</td>\n",
       "      <td>32.76</td>\n",
       "      <td>19.316</td>\n",
       "      <td>04714B6037F8</td>\n",
       "      <td>2020-08-30 13:35:15.000</td>\n",
       "    </tr>\n",
       "    <tr>\n",
       "      <th>1</th>\n",
       "      <td>1156.0</td>\n",
       "      <td>1203.384</td>\n",
       "      <td>438.0</td>\n",
       "      <td>33.10</td>\n",
       "      <td>19.366</td>\n",
       "      <td>04714B6037F8</td>\n",
       "      <td>2020-08-30 13:55:15.000</td>\n",
       "    </tr>\n",
       "    <tr>\n",
       "      <th>2</th>\n",
       "      <td>1154.0</td>\n",
       "      <td>1198.567</td>\n",
       "      <td>431.0</td>\n",
       "      <td>33.26</td>\n",
       "      <td>19.224</td>\n",
       "      <td>04714B6037F8</td>\n",
       "      <td>2020-12-02 14:43:18.000</td>\n",
       "    </tr>\n",
       "    <tr>\n",
       "      <th>3</th>\n",
       "      <td>1160.0</td>\n",
       "      <td>1190.626</td>\n",
       "      <td>438.0</td>\n",
       "      <td>33.16</td>\n",
       "      <td>19.452</td>\n",
       "      <td>04714B6037F8</td>\n",
       "      <td>2020-10-13 12:58:20.000</td>\n",
       "    </tr>\n",
       "    <tr>\n",
       "      <th>4</th>\n",
       "      <td>971.0</td>\n",
       "      <td>989.633</td>\n",
       "      <td>331.0</td>\n",
       "      <td>26.44</td>\n",
       "      <td>11.471</td>\n",
       "      <td>04714B6037F8</td>\n",
       "      <td>2020-04-24 16:59:26.000</td>\n",
       "    </tr>\n",
       "  </tbody>\n",
       "</table>\n",
       "</div>"
      ],
      "text/plain": [
       "    speed      flow  voltage  CURRENT   POWER     device_id  \\\n",
       "0  1156.0  1193.607  438.0    32.76    19.316  04714B6037F8   \n",
       "1  1156.0  1203.384  438.0    33.10    19.366  04714B6037F8   \n",
       "2  1154.0  1198.567  431.0    33.26    19.224  04714B6037F8   \n",
       "3  1160.0  1190.626  438.0    33.16    19.452  04714B6037F8   \n",
       "4  971.0   989.633   331.0    26.44    11.471  04714B6037F8   \n",
       "\n",
       "               updated_utc  \n",
       "0  2020-08-30 13:35:15.000  \n",
       "1  2020-08-30 13:55:15.000  \n",
       "2  2020-12-02 14:43:18.000  \n",
       "3  2020-10-13 12:58:20.000  \n",
       "4  2020-04-24 16:59:26.000  "
      ]
     },
     "execution_count": 19,
     "metadata": {},
     "output_type": "execute_result"
    }
   ],
   "source": [
    "# Check df for NaN\n",
    "pd.set_option('display.max_columns', None)\n",
    "pd.set_option('display.max_rows', None)  # or 1000\n",
    "pd.set_option('display.max_colwidth', -1)  # or 199\n",
    "columns = [ 'speed','flow','voltage','CURRENT','POWER', 'device_id','updated_utc']\n",
    "s_df = ac_df.loc[ac_df['device_id'] == entity_name, :][columns]\n",
    "\n",
    "print (\"s_df.shape\")\n",
    "print (s_df.shape)\n",
    "s_df.head()"
   ]
  },
  {
   "cell_type": "code",
   "execution_count": 20,
   "metadata": {},
   "outputs": [
    {
     "name": "stdout",
     "output_type": "stream",
     "text": [
      "RandomForestRegressor(bootstrap=True, criterion='mse', max_depth=None,\n",
      "           max_features='auto', max_leaf_nodes=None,\n",
      "           min_impurity_decrease=0.0, min_impurity_split=None,\n",
      "           min_samples_leaf=1, min_samples_split=2,\n",
      "           min_weight_fraction_leaf=0.0, n_estimators=10, n_jobs=None,\n",
      "           oob_score=False, random_state=None, verbose=0, warm_start=False)\n",
      "[19.4487]\n"
     ]
    }
   ],
   "source": [
    "# save the model to disk\n",
    "import pickle\n",
    "model_file_path = '/Users/carlos.ferreira1ibm.com/ws/autoai/models/power_random_forest.mod'\n",
    "pickle.dump(random_forest_model, open(model_file_path, 'wb'))\n",
    "\n",
    "# Load the model from disk\n",
    "model = pickle.load(open(model_file_path, 'rb'))\n",
    "print(model)\n",
    "\n",
    "# Test prediction on  a single row prediction\n",
    "# speed      flow  voltage  CURRENT   POWER\n",
    "# 1160.0  1190.626    438.0    33.16  19.452\n",
    "#  971.0   989.633    331.0    26.44  11.471\n",
    "\n",
    "# Power should be 19.452\n",
    "row = [[1160.0, 1190.626, 438.0, 33.16]]\n",
    "\n",
    "yhat = model.predict(row)\n",
    "print(yhat)"
   ]
  },
  {
   "cell_type": "code",
   "execution_count": 21,
   "metadata": {},
   "outputs": [
    {
     "name": "stdout",
     "output_type": "stream",
     "text": [
      "/Users/carlos.ferreira1ibm.com/ws/autoai/beta-1_credentials.json\n",
      "19305\n",
      "beta-1\n",
      "Saved Model power_random_forest.mod\n",
      "load model\n",
      "RandomForestRegressor(bootstrap=True, criterion='mse', max_depth=None,\n",
      "           max_features='auto', max_leaf_nodes=None,\n",
      "           min_impurity_decrease=0.0, min_impurity_split=None,\n",
      "           min_samples_leaf=1, min_samples_split=2,\n",
      "           min_weight_fraction_leaf=0.0, n_estimators=10, n_jobs=None,\n",
      "           oob_score=False, random_state=None, verbose=0, warm_start=False)\n",
      "['speed', 'flow', 'voltage', 'CURRENT']\n",
      "20210421130410\n"
     ]
    }
   ],
   "source": [
    "# Get Connection to DB to save and retreive models\n",
    "from iotfunctions.db import Database\n",
    "import json\n",
    "credentials = {}\n",
    "credential_file = '/Users/carlos.ferreira1ibm.com/ws/autoai/beta-1_credentials.json'\n",
    "\n",
    "with open(credential_file, encoding='utf-8') as F:\n",
    "    credentials = json.loads(F.read())\n",
    "db_ctp = Database(credentials=credentials, entity_type_id=entity_type_id )\n",
    "print(entity_type_id)\n",
    "print (db_ctp.tenant_id)\n",
    "\n",
    "\n",
    "# Store the model with Datetimestamp and vector to DB db_ctp\n",
    "from datetime import datetime\n",
    "model_name = 'power_random_forest.mod'\n",
    "try:\n",
    "    feature_vector = ['speed', 'flow', 'voltage', 'CURRENT' ]\n",
    "    model_dict  = {\n",
    "    'model': model,\n",
    "    'feature_vector': feature_vector,\n",
    "    'timesstamp' : datetime.now().strftime(\"%Y%m%d%H%M%S\")\n",
    "    }\n",
    "    db_ctp.model_store.store_model(model_name, model_dict) \n",
    "    print(\"Saved Model %s\" %model_name)\n",
    "except Exception as e:\n",
    "    print('Model store failed with ' + str(e))\n",
    "    pass\n",
    "\n",
    "\n",
    "# Retrieve the model from db\n",
    "try:\n",
    "    model_dict = db_ctp.model_store.retrieve_model(model_name)\n",
    "    print('load model')\n",
    "    monitor_model = model_dict['model']\n",
    "    print(monitor_model)\n",
    "    feature_vector = model_dict['feature_vector']\n",
    "    print(feature_vector)\n",
    "    feature_vector = model_dict['timesstamp']\n",
    "    print(feature_vector)\n",
    "except Exception as e:\n",
    "    print('Model retrieval failed with ' + str(e))\n",
    "    pass"
   ]
  },
  {
   "cell_type": "code",
   "execution_count": 22,
   "metadata": {},
   "outputs": [
    {
     "name": "stdout",
     "output_type": "stream",
     "text": [
      "[19.4487]\n"
     ]
    }
   ],
   "source": [
    "# Test prediction on  a single row prediction\n",
    "# speed      flow  voltage  CURRENT   POWER\n",
    "# 1160.0  1190.626    438.0    33.16  19.452\n",
    "#  971.0   989.633    331.0    26.44  11.471\n",
    "\n",
    "# Power should be 19.452\n",
    "row = [[1160.0, 1190.626, 438.0, 33.16]]\n",
    "\n",
    "yhat = model.predict(row)\n",
    "print(yhat)"
   ]
  },
  {
   "cell_type": "code",
   "execution_count": null,
   "metadata": {},
   "outputs": [],
   "source": [
    "from statsmodels.tsa.seasonal import seasonal_decompose\n",
    "# Sort the dataframe by updated_utc\n",
    "d_df = sc_df\n",
    "d_df['datetime'] = pd.to_datetime(d_df['updated_utc'])\n",
    "d_df = d_df.set_index('datetime')\n",
    "#d_df.drop(['updated_utc'], axis=1, inplace=True)\n",
    "\n",
    "d_df.head()\n",
    "\n"
   ]
  },
  {
   "cell_type": "code",
   "execution_count": null,
   "metadata": {},
   "outputs": [],
   "source": [
    "print(d_df.index)\n",
    "print(d_df.tail(10))"
   ]
  },
  {
   "cell_type": "code",
   "execution_count": 107,
   "metadata": {
    "scrolled": true
   },
   "outputs": [
    {
     "data": {
      "text/plain": [
       "[<matplotlib.lines.Line2D at 0x1466af450>]"
      ]
     },
     "execution_count": 107,
     "metadata": {},
     "output_type": "execute_result"
    },
    {
     "data": {
      "image/png": "[encoded data removed]",
      "text/plain": [
       "<Figure size 432x288 with 1 Axes>"
      ]
     },
     "metadata": {
      "needs_background": "light"
     },
     "output_type": "display_data"
    }
   ],
   "source": [
    "plt.xlabel(\"Date\")\n",
    "plt.ylabel(\"Power\")\n",
    "plt.title(\"Power graph\")\n",
    "plt.plot(d_df.sort_values(by='datetime',ascending=True)['POWER'])"
   ]
  },
  {
   "cell_type": "code",
   "execution_count": 108,
   "metadata": {},
   "outputs": [
    {
     "name": "stdout",
     "output_type": "stream",
     "text": [
      "Empty DataFrame\n",
      "Columns: [speed, flow, voltage, CURRENT, POWER, device_id, updated_utc, power_prediction]\n",
      "Index: []\n"
     ]
    }
   ],
   "source": [
    "#Select rows = or less than 0 and drop them\n",
    "print(d_df.loc[d_df.POWER <= 0])\n"
   ]
  },
  {
   "cell_type": "code",
   "execution_count": 115,
   "metadata": {},
   "outputs": [
    {
     "data": {
      "image/png": "[encoded data removed]",
      "text/plain": [
       "<Figure size 432x288 with 4 Axes>"
      ]
     },
     "metadata": {
      "needs_background": "light"
     },
     "output_type": "display_data"
    }
   ],
   "source": [
    "from statsmodels.tsa.seasonal import seasonal_decompose\n",
    "d_df = d_df.dropna()\n",
    "result = seasonal_decompose(d_df[d_df.POWER > 0] .sort_values(by='datetime',ascending=True)['POWER'], model='multiplicative', freq=60)\n",
    "result.plot()\n",
    "plt.show()"
   ]
  },
  {
   "cell_type": "code",
   "execution_count": null,
   "metadata": {},
   "outputs": [],
   "source": []
  }
 ],
 "metadata": {
  "kernelspec": {
   "display_name": "Python 3 (ipykernel)",
   "language": "python",
   "name": "python3"
  },
  "language_info": {
   "codemirror_mode": {
    "name": "ipython",
    "version": 3
   },
   "file_extension": ".py",
   "mimetype": "text/x-python",
   "name": "python",
   "nbconvert_exporter": "python",
   "pygments_lexer": "ipython3",
   "version": "3.7.9"
  }
 },
 "nbformat": 4,
 "nbformat_minor": 4
}
